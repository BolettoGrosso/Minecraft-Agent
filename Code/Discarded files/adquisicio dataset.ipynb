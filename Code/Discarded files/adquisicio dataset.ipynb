{
 "cells": [
  {
   "cell_type": "code",
   "execution_count": null,
   "metadata": {},
   "outputs": [],
   "source": []
  },
  {
   "cell_type": "code",
   "execution_count": null,
   "metadata": {},
   "outputs": [],
   "source": [
    "def adquirir_dataset():\n",
    "    labels, boxes, scores = model.predict(image)\n",
    "    threshold = 0.6\n",
    "    import numpy as np\n",
    "    llista_boxes = boxes.tolist()\n",
    "    boxes_salvats=[]\n",
    "    labels_salvats=[]\n",
    "    for i in range(len(scores)):\n",
    "        if scores[i]>threshold:\n",
    "            labels_salvats.append(labels[i])\n",
    "            boxes_salvats.append(llista_boxes[i])         #lo unic que fa és aplicar el threshhold a la detecció\n",
    "\n",
    "    boxes_salvats_tensor = torch.FloatTensor(boxes_salvats)\n",
    "\n",
    "    #El segon és la alçada--------------------------------------------------------------------\n",
    "    #El primer es l'esquerra\n",
    "    #el tercer es la dreta\n",
    "    #hem de comparar el segon amb el darrer.\n",
    "    distancies = []\n",
    "    entitats_input = [] #Ha de ser una llista, un diccionari no pot tenir instancies diferentss amb la mateixa etiqueta\n",
    "\n",
    "    for i in boxes_salvats_tensor:\n",
    "        distancies.append(str(i[3]-i[1]))\n",
    "        entitats_input.append([  int( (i[3].item() - i[1].item()) ),  (i[2].item()+i[0].item())/2 ,  (i[3].item()+i[1].item())/2 \n",
    "                              ])\n",
    "        #els corxetes diferencien una entitat\n",
    "\n",
    "    for j in range(len(distancies)):\n",
    "        distancies[j] = distancies[j][7:-1]   #Tallar el string\n",
    "\n",
    "    for k in range(len(labels_salvats)):\n",
    "        entitats_input[k].append(labels_salvats[k])                 #Afegim els tags als animals\n",
    "        labels_salvats[k] = labels_salvats[k] + \" \" + distancies[k]\n",
    "    return entitats_input"
   ]
  }
 ],
 "metadata": {
  "kernelspec": {
   "display_name": "Python 3",
   "language": "python",
   "name": "python3"
  },
  "language_info": {
   "codemirror_mode": {
    "name": "ipython",
    "version": 3
   },
   "file_extension": ".py",
   "mimetype": "text/x-python",
   "name": "python",
   "nbconvert_exporter": "python",
   "pygments_lexer": "ipython3",
   "version": "3.6.8"
  }
 },
 "nbformat": 4,
 "nbformat_minor": 4
}
